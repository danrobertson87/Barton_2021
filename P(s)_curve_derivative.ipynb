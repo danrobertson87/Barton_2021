{
 "cells": [
  {
   "cell_type": "markdown",
   "metadata": {},
   "source": [
    "# Plot the smoothed P(s) curve and its derivative (slope)"
   ]
  },
  {
   "cell_type": "code",
   "execution_count": 37,
   "metadata": {},
   "outputs": [],
   "source": [
    "# import core packages\n",
    "import warnings\n",
    "warnings.filterwarnings(\"ignore\")\n",
    "from itertools import combinations\n",
    "# import semi-core packages\n",
    "import matplotlib.pyplot as plt\n",
    "from matplotlib import colors\n",
    "%matplotlib inline\n",
    "plt.style.use('seaborn-poster')\n",
    "import numpy as np\n",
    "import pandas as pd\n",
    "# import open2c libraries\n",
    "import bioframe\n",
    "import cooler\n",
    "import cooltools\n",
    "import cooltools.expected\n",
    "\n",
    "import seaborn as sns"
   ]
  },
  {
   "cell_type": "code",
   "execution_count": 69,
   "metadata": {},
   "outputs": [],
   "source": [
    "clr = cooler.Cooler('PATH/COOL_FILE.cool')"
   ]
  },
  {
   "cell_type": "code",
   "execution_count": 73,
   "metadata": {},
   "outputs": [
    {
     "data": {
      "text/html": [
       "<div>\n",
       "<style scoped>\n",
       "    .dataframe tbody tr th:only-of-type {\n",
       "        vertical-align: middle;\n",
       "    }\n",
       "\n",
       "    .dataframe tbody tr th {\n",
       "        vertical-align: top;\n",
       "    }\n",
       "\n",
       "    .dataframe thead th {\n",
       "        text-align: right;\n",
       "    }\n",
       "</style>\n",
       "<table border=\"1\" class=\"dataframe\">\n",
       "  <thead>\n",
       "    <tr style=\"text-align: right;\">\n",
       "      <th></th>\n",
       "      <th>chrom</th>\n",
       "      <th>start</th>\n",
       "      <th>end</th>\n",
       "    </tr>\n",
       "  </thead>\n",
       "  <tbody>\n",
       "    <tr>\n",
       "      <th>0</th>\n",
       "      <td>chrI</td>\n",
       "      <td>0</td>\n",
       "      <td>160564</td>\n",
       "    </tr>\n",
       "    <tr>\n",
       "      <th>1</th>\n",
       "      <td>chrII</td>\n",
       "      <td>0</td>\n",
       "      <td>229913</td>\n",
       "    </tr>\n",
       "    <tr>\n",
       "      <th>2</th>\n",
       "      <td>chrIII</td>\n",
       "      <td>0</td>\n",
       "      <td>119204</td>\n",
       "    </tr>\n",
       "    <tr>\n",
       "      <th>3</th>\n",
       "      <td>chrIV</td>\n",
       "      <td>0</td>\n",
       "      <td>461995</td>\n",
       "    </tr>\n",
       "    <tr>\n",
       "      <th>4</th>\n",
       "      <td>chrV</td>\n",
       "      <td>0</td>\n",
       "      <td>156717</td>\n",
       "    </tr>\n",
       "  </tbody>\n",
       "</table>\n",
       "</div>"
      ],
      "text/plain": [
       "    chrom  start     end\n",
       "0    chrI      0  160564\n",
       "1   chrII      0  229913\n",
       "2  chrIII      0  119204\n",
       "3   chrIV      0  461995\n",
       "4    chrV      0  156717"
      ]
     },
     "execution_count": 73,
     "metadata": {},
     "output_type": "execute_result"
    }
   ],
   "source": [
    "# Load chromosome arms sizes\n",
    "arms = pd.read_table('PATH/ARMS.tab')\n",
    "arms.head()"
   ]
  },
  {
   "cell_type": "code",
   "execution_count": 74,
   "metadata": {},
   "outputs": [
    {
     "data": {
      "text/html": [
       "<div>\n",
       "<style scoped>\n",
       "    .dataframe tbody tr th:only-of-type {\n",
       "        vertical-align: middle;\n",
       "    }\n",
       "\n",
       "    .dataframe tbody tr th {\n",
       "        vertical-align: top;\n",
       "    }\n",
       "\n",
       "    .dataframe thead th {\n",
       "        text-align: right;\n",
       "    }\n",
       "</style>\n",
       "<table border=\"1\" class=\"dataframe\">\n",
       "  <thead>\n",
       "    <tr style=\"text-align: right;\">\n",
       "      <th></th>\n",
       "      <th>chrom</th>\n",
       "      <th>start</th>\n",
       "      <th>end</th>\n",
       "      <th>name</th>\n",
       "    </tr>\n",
       "  </thead>\n",
       "  <tbody>\n",
       "    <tr>\n",
       "      <th>0</th>\n",
       "      <td>chrI</td>\n",
       "      <td>0</td>\n",
       "      <td>160564</td>\n",
       "      <td>chrI:0-160564</td>\n",
       "    </tr>\n",
       "    <tr>\n",
       "      <th>1</th>\n",
       "      <td>chrII</td>\n",
       "      <td>0</td>\n",
       "      <td>229913</td>\n",
       "      <td>chrII:0-229913</td>\n",
       "    </tr>\n",
       "    <tr>\n",
       "      <th>2</th>\n",
       "      <td>chrIII</td>\n",
       "      <td>0</td>\n",
       "      <td>119204</td>\n",
       "      <td>chrIII:0-119204</td>\n",
       "    </tr>\n",
       "    <tr>\n",
       "      <th>3</th>\n",
       "      <td>chrIV</td>\n",
       "      <td>0</td>\n",
       "      <td>461995</td>\n",
       "      <td>chrIV:0-461995</td>\n",
       "    </tr>\n",
       "    <tr>\n",
       "      <th>4</th>\n",
       "      <td>chrV</td>\n",
       "      <td>0</td>\n",
       "      <td>156717</td>\n",
       "      <td>chrV:0-156717</td>\n",
       "    </tr>\n",
       "  </tbody>\n",
       "</table>\n",
       "</div>"
      ],
      "text/plain": [
       "    chrom  start     end             name\n",
       "0    chrI      0  160564    chrI:0-160564\n",
       "1   chrII      0  229913   chrII:0-229913\n",
       "2  chrIII      0  119204  chrIII:0-119204\n",
       "3   chrIV      0  461995   chrIV:0-461995\n",
       "4    chrV      0  156717    chrV:0-156717"
      ]
     },
     "execution_count": 74,
     "metadata": {},
     "output_type": "execute_result"
    }
   ],
   "source": [
    "regs = bioframe.parse_regions(arms)\n",
    "regs.head()"
   ]
  },
  {
   "cell_type": "code",
   "execution_count": 75,
   "metadata": {},
   "outputs": [],
   "source": [
    "# cvd == contacts-vs-distance\n",
    "cvd = cooltools.expected.diagsum(\n",
    "clr=clr,\n",
    "regions=regs,\n",
    "transforms={'balanced': lambda p: p['count']*p['weight1']*p['weight2']}\n",
    ")\n",
    "#cvd"
   ]
  },
  {
   "cell_type": "code",
   "execution_count": 76,
   "metadata": {},
   "outputs": [],
   "source": [
    "# Aggregate diagonals from different genomic regions together.\n",
    "# Since all three calcuated statistics are additive, they can be aggregated\n",
    "# easily via sum() function.\n",
    "\n",
    "cvd_agg = (\n",
    "cvd\n",
    ".groupby('diag')\n",
    ".agg(\n",
    "{'n_valid':'sum',\n",
    "'count.sum':'sum',\n",
    "'balanced.sum':'sum',\n",
    "})\n",
    ".reset_index()\n",
    ")\n",
    "# Convert indices of diagonals into genomic separation, expressed in basepairs.\n",
    "cvd_agg['s_bp'] = (\n",
    "cvd_agg['diag']\n",
    "* clr.binsize)\n",
    "# Now we can calculate the average raw interaction counts and normalized contact frequencies.\n",
    "cvd_agg['count.avg'] = (\n",
    "cvd_agg['count.sum']\n",
    "/ cvd_agg['n_valid']\n",
    ")\n",
    "cvd_agg['balanced.avg'] = (\n",
    "cvd_agg['balanced.sum']\n",
    "/ cvd_agg['n_valid']\n",
    ")"
   ]
  },
  {
   "cell_type": "code",
   "execution_count": 2,
   "metadata": {},
   "outputs": [
    {
     "ename": "NameError",
     "evalue": "name 'plt' is not defined",
     "output_type": "error",
     "traceback": [
      "\u001b[0;31m---------------------------------------------------------------------------\u001b[0m",
      "\u001b[0;31mNameError\u001b[0m                                 Traceback (most recent call last)",
      "\u001b[0;32m<ipython-input-2-dad42477ca13>\u001b[0m in \u001b[0;36m<module>\u001b[0;34m\u001b[0m\n\u001b[0;32m----> 1\u001b[0;31m \u001b[0mf\u001b[0m\u001b[0;34m,\u001b[0m \u001b[0max\u001b[0m \u001b[0;34m=\u001b[0m \u001b[0mplt\u001b[0m\u001b[0;34m.\u001b[0m\u001b[0msubplots\u001b[0m\u001b[0;34m(\u001b[0m\u001b[0;36m1\u001b[0m\u001b[0;34m,\u001b[0m\u001b[0;36m1\u001b[0m\u001b[0;34m)\u001b[0m\u001b[0;34m\u001b[0m\u001b[0;34m\u001b[0m\u001b[0m\n\u001b[0m\u001b[1;32m      2\u001b[0m ax.loglog(\n\u001b[1;32m      3\u001b[0m \u001b[0mcvd_agg\u001b[0m\u001b[0;34m[\u001b[0m\u001b[0;34m's_bp'\u001b[0m\u001b[0;34m]\u001b[0m\u001b[0;34m,\u001b[0m\u001b[0;34m\u001b[0m\u001b[0;34m\u001b[0m\u001b[0m\n\u001b[1;32m      4\u001b[0m \u001b[0mcvd_agg\u001b[0m\u001b[0;34m[\u001b[0m\u001b[0;34m'balanced.avg'\u001b[0m\u001b[0;34m]\u001b[0m\u001b[0;34m,\u001b[0m\u001b[0;34m\u001b[0m\u001b[0;34m\u001b[0m\u001b[0m\n\u001b[1;32m      5\u001b[0m )\n",
      "\u001b[0;31mNameError\u001b[0m: name 'plt' is not defined"
     ]
    }
   ],
   "source": [
    "# Plot the P(s) curve\n",
    "\n",
    "f, ax = plt.subplots(1,1)\n",
    "ax.loglog(\n",
    "cvd_agg['s_bp'],\n",
    "cvd_agg['balanced.avg'],\n",
    ")\n",
    "\n",
    "ax.set(\n",
    "xlabel='separation, bp',\n",
    "ylabel='IC contact frequency')\n",
    "ax.set_aspect(1.0)\n",
    "ax.grid(lw=0.5)\n",
    "\n",
    "binsize=clr.binsize\n",
    "# save to pdf\n",
    "#plt.savefig('{}kb_Ps_curve_arms.pdf'.format(binsize//1000), bbox_inches='tight')"
   ]
  },
  {
   "cell_type": "code",
   "execution_count": 35,
   "metadata": {},
   "outputs": [],
   "source": [
    "#Smooth the P(s) curve with logarithmic binning.\n",
    "\n",
    "# Logbin-expected aggregates P(s) curves per region over exponentially increasing distance bins.\n",
    "lb_cvd, lb_slopes, lb_distbins = cooltools.expected.logbin_expected(cvd)\n",
    "# The resulting table contains P(s) curves for each individual region.\n",
    "# Aggregating these curves into a single genome-wide curve is involving too,\n",
    "# so we created a separate function for this too.\n",
    "lb_cvd_agg, lb_slopes_agg = cooltools.expected.combine_binned_expected(\n",
    "lb_cvd,\n",
    "binned_exp_slope=lb_slopes\n",
    ")\n",
    "lb_cvd_agg['s_bp'] = lb_cvd_agg['diag.avg'] * clr.binsize\n",
    "lb_slopes_agg['s_bp'] = lb_slopes_agg['diag.avg'] * clr.binsize"
   ]
  },
  {
   "cell_type": "code",
   "execution_count": 3,
   "metadata": {},
   "outputs": [
    {
     "ename": "NameError",
     "evalue": "name 'plt' is not defined",
     "output_type": "error",
     "traceback": [
      "\u001b[0;31m---------------------------------------------------------------------------\u001b[0m",
      "\u001b[0;31mNameError\u001b[0m                                 Traceback (most recent call last)",
      "\u001b[0;32m<ipython-input-3-93a079e40462>\u001b[0m in \u001b[0;36m<module>\u001b[0;34m\u001b[0m\n\u001b[1;32m      1\u001b[0m \u001b[0;31m# Plot the smoothed P(s) curve and its derivative\u001b[0m\u001b[0;34m\u001b[0m\u001b[0;34m\u001b[0m\u001b[0;34m\u001b[0m\u001b[0m\n\u001b[1;32m      2\u001b[0m \u001b[0;34m\u001b[0m\u001b[0m\n\u001b[0;32m----> 3\u001b[0;31m f, axs = plt.subplots(\n\u001b[0m\u001b[1;32m      4\u001b[0m \u001b[0mfigsize\u001b[0m\u001b[0;34m=\u001b[0m\u001b[0;34m(\u001b[0m\u001b[0;36m6.5\u001b[0m\u001b[0;34m,\u001b[0m\u001b[0;36m13\u001b[0m\u001b[0;34m)\u001b[0m\u001b[0;34m,\u001b[0m\u001b[0;34m\u001b[0m\u001b[0;34m\u001b[0m\u001b[0m\n\u001b[1;32m      5\u001b[0m \u001b[0mnrows\u001b[0m\u001b[0;34m=\u001b[0m\u001b[0;36m2\u001b[0m\u001b[0;34m,\u001b[0m\u001b[0;34m\u001b[0m\u001b[0;34m\u001b[0m\u001b[0m\n",
      "\u001b[0;31mNameError\u001b[0m: name 'plt' is not defined"
     ]
    }
   ],
   "source": [
    "# Plot the smoothed P(s) curve and its derivative\n",
    "\n",
    "f, axs = plt.subplots(\n",
    "figsize=(6.5,13),\n",
    "nrows=2,\n",
    "gridspec_kw={'height_ratios':[6,2]},\n",
    "sharex=True)\n",
    "ax = axs[0]\n",
    "ax.loglog(\n",
    "lb_cvd_agg['s_bp'],\n",
    "lb_cvd_agg['balanced.avg'],\n",
    "'o-',\n",
    "markersize=5,\n",
    ")\n",
    "ax.set(\n",
    "ylabel='IC contact frequency',\n",
    "xlim=(1e3,1e8)\n",
    ")\n",
    "ax.set_aspect(1.0)\n",
    "ax.grid(lw=0.5)\n",
    "ax = axs[1]\n",
    "ax.semilogx(\n",
    "lb_slopes_agg['s_bp'],\n",
    "lb_slopes_agg['slope'],\n",
    "alpha=0.5\n",
    ")\n",
    "ax.set(\n",
    "xlabel='separation, bp',\n",
    "ylabel='slope')\n",
    "ax.grid(lw=0.5)\n",
    "\n",
    "#plt.savefig('{}kb_Ps_smooth_curve_derivative_arms.pdf'.format(binsize//1000), bbox_inches='tight')"
   ]
  }
 ],
 "metadata": {
  "kernelspec": {
   "display_name": "Python 3",
   "language": "python",
   "name": "python3"
  },
  "language_info": {
   "codemirror_mode": {
    "name": "ipython",
    "version": 3
   },
   "file_extension": ".py",
   "mimetype": "text/x-python",
   "name": "python",
   "nbconvert_exporter": "python",
   "pygments_lexer": "ipython3",
   "version": "3.7.4"
  }
 },
 "nbformat": 4,
 "nbformat_minor": 2
}
