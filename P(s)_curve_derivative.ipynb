{
 "cells": [
  {
   "cell_type": "markdown",
   "metadata": {},
   "source": [
    "# Plot the smoothed P(s) curve and its derivative (slope)"
   ]
  },
  {
   "cell_type": "code",
   "execution_count": null,
   "metadata": {},
   "outputs": [],
   "source": [
    "# import core packages\n",
    "import warnings\n",
    "warnings.filterwarnings(\"ignore\")\n",
    "from itertools import combinations\n",
    "# import semi-core packages\n",
    "import matplotlib.pyplot as plt\n",
    "from matplotlib import colors\n",
    "%matplotlib inline\n",
    "plt.style.use('seaborn-poster')\n",
    "import numpy as np\n",
    "import pandas as pd\n",
    "# import open2c libraries\n",
    "import bioframe\n",
    "import cooler\n",
    "import cooltools\n",
    "import cooltools.expected\n",
    "\n",
    "import seaborn as sns"
   ]
  },
  {
   "cell_type": "code",
   "execution_count": null,
   "metadata": {},
   "outputs": [],
   "source": [
    "clr = cooler.Cooler('PATH/COOL_FILE.cool')"
   ]
  },
  {
   "cell_type": "code",
   "execution_count": null,
   "metadata": {},
   "outputs": [],
   "source": [
    "# Load chromosome arms sizes\n",
    "arms = pd.read_table('PATH/ARMS.tab')\n",
    "arms.head()"
   ]
  },
  {
   "cell_type": "code",
   "execution_count": null,
   "metadata": {},
   "outputs": [],
   "source": [
    "regs = bioframe.parse_regions(arms)\n",
    "regs.head()"
   ]
  },
  {
   "cell_type": "code",
   "execution_count": null,
   "metadata": {},
   "outputs": [],
   "source": [
    "# cvd == contacts-vs-distance\n",
    "cvd = cooltools.expected.diagsum(\n",
    "clr=clr,\n",
    "regions=regs,\n",
    "transforms={'balanced': lambda p: p['count']*p['weight1']*p['weight2']}\n",
    ")\n",
    "#cvd"
   ]
  },
  {
   "cell_type": "code",
   "execution_count": null,
   "metadata": {},
   "outputs": [],
   "source": [
    "# Aggregate diagonals from different genomic regions together.\n",
    "# Since all three calcuated statistics are additive, they can be aggregated\n",
    "# easily via sum() function.\n",
    "\n",
    "cvd_agg = (\n",
    "cvd\n",
    ".groupby('diag')\n",
    ".agg(\n",
    "{'n_valid':'sum',\n",
    "'count.sum':'sum',\n",
    "'balanced.sum':'sum',\n",
    "})\n",
    ".reset_index()\n",
    ")\n",
    "# Convert indices of diagonals into genomic separation, expressed in basepairs.\n",
    "cvd_agg['s_bp'] = (\n",
    "cvd_agg['diag']\n",
    "* clr.binsize)\n",
    "# Now we can calculate the average raw interaction counts and normalized contact frequencies.\n",
    "cvd_agg['count.avg'] = (\n",
    "cvd_agg['count.sum']\n",
    "/ cvd_agg['n_valid']\n",
    ")\n",
    "cvd_agg['balanced.avg'] = (\n",
    "cvd_agg['balanced.sum']\n",
    "/ cvd_agg['n_valid']\n",
    ")"
   ]
  },
  {
   "cell_type": "code",
   "execution_count": null,
   "metadata": {},
   "outputs": [],
   "source": [
    "# Plot the P(s) curve\n",
    "\n",
    "f, ax = plt.subplots(1,1)\n",
    "ax.loglog(\n",
    "cvd_agg['s_bp'],\n",
    "cvd_agg['balanced.avg'],\n",
    ")\n",
    "\n",
    "ax.set(\n",
    "xlabel='separation, bp',\n",
    "ylabel='IC contact frequency')\n",
    "ax.set_aspect(1.0)\n",
    "ax.grid(lw=0.5)\n",
    "\n",
    "binsize=clr.binsize\n",
    "# save to pdf\n",
    "#plt.savefig('{}kb_Ps_curve_arms.pdf'.format(binsize//1000), bbox_inches='tight')"
   ]
  },
  {
   "cell_type": "code",
   "execution_count": null,
   "metadata": {},
   "outputs": [],
   "source": [
    "#Smooth the P(s) curve with logarithmic binning.\n",
    "\n",
    "# Logbin-expected aggregates P(s) curves per region over exponentially increasing distance bins.\n",
    "lb_cvd, lb_slopes, lb_distbins = cooltools.expected.logbin_expected(cvd)\n",
    "# The resulting table contains P(s) curves for each individual region.\n",
    "# Aggregating these curves into a single genome-wide curve is involving too,\n",
    "# so we created a separate function for this too.\n",
    "lb_cvd_agg, lb_slopes_agg = cooltools.expected.combine_binned_expected(\n",
    "lb_cvd,\n",
    "binned_exp_slope=lb_slopes\n",
    ")\n",
    "lb_cvd_agg['s_bp'] = lb_cvd_agg['diag.avg'] * clr.binsize\n",
    "lb_slopes_agg['s_bp'] = lb_slopes_agg['diag.avg'] * clr.binsize"
   ]
  },
  {
   "cell_type": "code",
   "execution_count": null,
   "metadata": {},
   "outputs": [],
   "source": [
    "# Plot the smoothed P(s) curve and its derivative\n",
    "\n",
    "f, axs = plt.subplots(\n",
    "figsize=(6.5,13),\n",
    "nrows=2,\n",
    "gridspec_kw={'height_ratios':[6,2]},\n",
    "sharex=True)\n",
    "ax = axs[0]\n",
    "ax.loglog(\n",
    "lb_cvd_agg['s_bp'],\n",
    "lb_cvd_agg['balanced.avg'],\n",
    "'o-',\n",
    "markersize=5,\n",
    ")\n",
    "ax.set(\n",
    "ylabel='IC contact frequency',\n",
    "xlim=(1e3,1e8)\n",
    ")\n",
    "ax.set_aspect(1.0)\n",
    "ax.grid(lw=0.5)\n",
    "ax = axs[1]\n",
    "ax.semilogx(\n",
    "lb_slopes_agg['s_bp'],\n",
    "lb_slopes_agg['slope'],\n",
    "alpha=0.5\n",
    ")\n",
    "ax.set(\n",
    "xlabel='separation, bp',\n",
    "ylabel='slope')\n",
    "ax.grid(lw=0.5)\n",
    "\n",
    "#plt.savefig('{}kb_Ps_smooth_curve_derivative_arms.pdf'.format(binsize//1000), bbox_inches='tight')"
   ]
  }
 ],
 "metadata": {
  "kernelspec": {
   "display_name": "Python 3",
   "language": "python",
   "name": "python3"
  },
  "language_info": {
   "codemirror_mode": {
    "name": "ipython",
    "version": 3
   },
   "file_extension": ".py",
   "mimetype": "text/x-python",
   "name": "python",
   "nbconvert_exporter": "python",
   "pygments_lexer": "ipython3",
   "version": "3.7.4"
  }
 },
 "nbformat": 4,
 "nbformat_minor": 2
}
