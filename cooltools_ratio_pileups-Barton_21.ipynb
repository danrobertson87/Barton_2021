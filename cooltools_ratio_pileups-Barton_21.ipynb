{
 "cells": [
  {
   "cell_type": "markdown",
   "metadata": {
    "toc": "true"
   },
   "source": [
    "# Ratio Pileups \n",
    " <p>"
   ]
  },
  {
   "cell_type": "code",
   "execution_count": null,
   "metadata": {
    "ExecuteTime": {
     "end_time": "2018-12-14T06:07:36.575457Z",
     "start_time": "2018-12-14T06:07:36.232611Z"
    }
   },
   "outputs": [],
   "source": [
    "import numpy as np\n",
    "import pandas as pd\n",
    "import matplotlib\n",
    "import matplotlib.gridspec\n",
    "import matplotlib.pyplot as plt\n",
    "import cooler\n",
    "import cooltools\n",
    "from cooltools import snipping\n",
    "import bioframe\n",
    "\n",
    "%matplotlib inline"
   ]
  },
  {
   "cell_type": "code",
   "execution_count": null,
   "metadata": {
    "ExecuteTime": {
     "end_time": "2018-12-14T06:07:36.579971Z",
     "start_time": "2018-12-14T06:07:36.577118Z"
    }
   },
   "outputs": [],
   "source": [
    "plt.rcParams['pdf.fonttype'] = 'truetype'\n",
    "plt.rcParams['svg.fonttype'] = 'none' # No text as paths. Assume font installed.\n",
    "\n",
    "plt.rcParams['font.serif'] = ['Times New Roman']\n",
    "plt.rcParams['font.sans-serif'] = ['Arial']\n",
    "plt.rcParams['font.family'] = 'sans-serif'\n",
    "plt.rcParams['text.usetex'] = False"
   ]
  },
  {
   "cell_type": "code",
   "execution_count": null,
   "metadata": {
    "ExecuteTime": {
     "end_time": "2018-12-14T06:07:36.672844Z",
     "start_time": "2018-12-14T06:07:36.581376Z"
    }
   },
   "outputs": [],
   "source": [
    "# add fall colormap\n",
    "\n",
    "def listToColormap(colorList, cmapName=None):\n",
    "    colorList = np.array(colorList)\n",
    "    if colorList.min() < 0:\n",
    "        raise ValueError(\"Colors should be 0 to 1, or 0 to 255\")\n",
    "    if colorList.max() > 1.:\n",
    "        if colorList.max() > 255:\n",
    "            raise ValueError(\"Colors should be 0 to 1 or 0 to 255\")\n",
    "        else:\n",
    "            colorList = colorList / 255.\n",
    "    return matplotlib.colors.LinearSegmentedColormap.from_list(cmapName, colorList, 256)\n",
    "\n",
    "fallList = [\n",
    "     (255, 255, 255), (255, 255, 204),\n",
    "     (255, 237, 160), (254, 217, 118),\n",
    "     (254, 178, 76), (253, 141, 60),\n",
    "     (252, 78, 42), (227, 26, 28),\n",
    "     (189, 0, 38), (128, 0, 38), (0, 0, 0)]\n",
    "\n",
    "\n",
    "def registerList(mylist, name):\n",
    "    mymap = listToColormap(mylist, name)\n",
    "    mymapR = listToColormap(mylist[::-1], name + \"_r\")\n",
    "    mymapR.set_bad('white',1.)\n",
    "    mymap.set_bad('white',1.)\n",
    "    matplotlib.cm.register_cmap(name, mymap)\n",
    "    matplotlib.cm.register_cmap(name + \"_r\", mymapR)\n",
    "\n",
    "registerList(fallList, \"fall\")\n",
    "\n",
    "coolwarm = matplotlib.cm.coolwarm\n",
    "coolwarm.set_bad('white',1.)\n",
    "matplotlib.cm.register_cmap('coolwarm', coolwarm)"
   ]
  },
  {
   "cell_type": "code",
   "execution_count": null,
   "metadata": {},
   "outputs": [],
   "source": [
    "chromsizes = pd.read_table(\n",
    "    'chrom.sizes.file', \n",
    "    header=None,\n",
    "    names=['chrom', 'length'])\n",
    "chromsizes"
   ]
  },
  {
   "cell_type": "code",
   "execution_count": null,
   "metadata": {
    "ExecuteTime": {
     "end_time": "2018-12-14T06:08:04.934559Z",
     "start_time": "2018-12-14T06:08:04.914217Z"
    }
   },
   "outputs": [],
   "source": [
    "chromsizeslist = cooler.util.read_chromsizes(\n",
    "    'chrom.sizes.file', \n",
    "    name_patterns=(r'^chr[IVX]+$', r'chrMito$'))\n",
    "chromsizeslist"
   ]
  },
  {
   "cell_type": "code",
   "execution_count": null,
   "metadata": {},
   "outputs": [],
   "source": [
    "chromosomes = list(chromsizeslist.index)\n",
    "chromosomes"
   ]
  },
  {
   "cell_type": "code",
   "execution_count": null,
   "metadata": {},
   "outputs": [],
   "source": [
    "# Load sites of interest\n",
    "sites = pd.read_table('sites.bed.file')\n",
    "\n",
    "sites.head()"
   ]
  },
  {
   "cell_type": "code",
   "execution_count": null,
   "metadata": {},
   "outputs": [],
   "source": [
    "supports = [(chrom[0], 0, chrom[1])\n",
    "            for _, chrom in chromsizes.iterrows()\n",
    "           ]\n",
    "supports"
   ]
  },
  {
   "cell_type": "code",
   "execution_count": null,
   "metadata": {},
   "outputs": [],
   "source": [
    "supports_p = bioframe.parse_regions(supports)\n",
    "supports_p"
   ]
  },
  {
   "cell_type": "code",
   "execution_count": null,
   "metadata": {
    "ExecuteTime": {
     "end_time": "2018-12-14T06:08:15.690213Z",
     "start_time": "2018-12-14T06:08:15.676626Z"
    }
   },
   "outputs": [],
   "source": [
    "sites['mid'] = (sites['start'] + sites['end']) / 2\n",
    "\n",
    "binsize = 1000\n",
    "flank = 25000\n",
    "\n",
    "cens = snipping.make_bin_aligned_windows(\n",
    "    binsize,\n",
    "    sites.chrom.values,\n",
    "    sites.mid.values,\n",
    "    flank # set flank_bp here\n",
    ")\n",
    "cens['strand'] = sites['strand']\n",
    "cens = snipping.assign_regions(cens, supports_p) \n",
    "cens = cens.dropna()\n",
    "print(len(cens), 'cen windows, after assigning supports')\n",
    "\n",
    "cens.head()"
   ]
  },
  {
   "cell_type": "code",
   "execution_count": null,
   "metadata": {
    "ExecuteTime": {
     "end_time": "2018-12-14T06:08:19.916965Z",
     "start_time": "2018-12-14T06:08:19.821427Z"
    }
   },
   "outputs": [],
   "source": [
    "cens['dummy'] = 1\n",
    "cen_pairs = pd.merge(cens, cens, how='outer', on='dummy', suffixes=['1','2'])[\n",
    "    ['chrom1', 'start1', 'end1', 'strand1', 'region1', 'chrom2', 'start2', 'end2', 'strand2','region2']]\n",
    "\n",
    "cen_pairs['region'] = list(zip(cen_pairs['region1'].values,\n",
    "                               cen_pairs['region2'].values))\n",
    "\n",
    "cen_pairs.head()"
   ]
  },
  {
   "cell_type": "code",
   "execution_count": null,
   "metadata": {},
   "outputs": [],
   "source": [
    "# All\n",
    "chroms4pileup = [\n",
    "    'chrI',\n",
    "    'chrII',\n",
    "    'chrIII',\n",
    "    'chrIV',\n",
    "    'chrV',\n",
    "    'chrVI',\n",
    "    'chrVII',\n",
    "    'chrVIII',\n",
    "    'chrIX',\n",
    "    'chrX',\n",
    "    'chrXI',\n",
    "    'chrXII',\n",
    "    'chrXIII',\n",
    "    'chrXIV',\n",
    "    'chrXV',\n",
    "    'chrXVI']\n",
    "\n",
    "cis_cen_pairs = cen_pairs[\n",
    "    (cen_pairs.chrom1 == cen_pairs.chrom2) & (cen_pairs.strand1 == cen_pairs.strand2)\n",
    "    & cen_pairs.chrom1.isin(chroms4pileup)\n",
    "    & cen_pairs.chrom2.isin(chroms4pileup)\n",
    "]\n",
    "cis_cen_pairs.reset_index(drop=True, inplace=True)\n",
    "\n",
    "cis_cen_pairs.head()"
   ]
  },
  {
   "cell_type": "code",
   "execution_count": null,
   "metadata": {
    "ExecuteTime": {
     "end_time": "2018-12-14T06:08:44.703253Z",
     "start_time": "2018-12-14T06:08:25.576605Z"
    },
    "scrolled": true
   },
   "outputs": [],
   "source": [
    "cis_cen_pileup_dict = {}\n",
    "\n",
    "import pathlib\n",
    "for p in pathlib.Path('PATH_TO_COOL').glob('*[0-9].cool'):\n",
    "    sample = p.name.split('.')[0]\n",
    "    print(sample, '...')\n",
    "    c = cooler.Cooler(p.as_posix())\n",
    "    snipper = snipping.CoolerSnipper(c, regions=supports_p)\n",
    "\n",
    "    cis_cen_pile = snipping.pileup( \n",
    "        cis_cen_pairs, \n",
    "        snipper.select, \n",
    "        snipper.snip) \n",
    "      \n",
    "    # mirror reflect snippets whose feature is on the opposite strand\n",
    "    mask = np.array(cens.strand == '-', dtype=bool)\n",
    "    cis_cen_pile[:, :, mask] =  cis_cen_pile[::-1, ::-1, mask]\n",
    "    \n",
    "    cis_cen_pileup_dict[sample] = np.nanmean(cis_cen_pile, axis=2)"
   ]
  },
  {
   "cell_type": "code",
   "execution_count": null,
   "metadata": {
    "ExecuteTime": {
     "end_time": "2018-12-14T06:08:55.735922Z",
     "start_time": "2018-12-14T06:08:55.727417Z"
    }
   },
   "outputs": [],
   "source": [
    "shortnames = {\n",
    "     'long_name_A' : 'A',\n",
    "     'long_name_B' : 'B'\n",
    "}\n",
    "\n",
    "def plot_pileup_ratios(pileup_dict, use_log2=False, hm_kwargs={}):\n",
    "    \n",
    "    vmin=hm_kwargs.get('vmin',-1.5)\n",
    "    vmax=hm_kwargs.get('vmax',1.5)\n",
    "    for i, dataset_pair in enumerate([\n",
    "        ('A', 'B')\n",
    "        ]):\n",
    "\n",
    "        if dataset_pair[0] is None:\n",
    "            continue\n",
    "        \n",
    "        ratio_hm = pileup_dict[dataset_pair[0]]/pileup_dict[dataset_pair[1]]\n",
    "        print('max log2', np.log2(np.max(ratio_hm[np.isfinite(ratio_hm)])),\n",
    "              'min log2', np.log2(np.min(ratio_hm[np.isfinite(ratio_hm)])))\n",
    "        log_ratio_hm = np.log2(ratio_hm) if use_log2 else np.log10(ratio_hm)\n",
    "        \n",
    "        plt.figure(figsize=(8, 8))\n",
    "\n",
    "        heatplot = plt.imshow(\n",
    "            log_ratio_hm,\n",
    "            extent=[-flank//1000, flank//1000, -flank//1000, flank//1000],\n",
    "            cmap=plt.cm.get_cmap('coolwarm'),\n",
    "            interpolation='none',\n",
    "            vmin=vmin,\n",
    "            vmax=vmax)\n",
    "\n",
    "        plt.title('{} / {}'.format(shortnames[dataset_pair[0]],shortnames[dataset_pair[1]]))  \n",
    "       \n",
    "        cb = plt.colorbar(heatplot, fraction=0.1,  ticks=[vmin, 0, vmax]) \n",
    "        plt.grid(False)\n",
    "        plt.savefig('{}.{}.flank{}kb.bin{}kb.log2.Ratio_Pileup.png'.format(shortnames[dataset_pair[0]],shortnames[dataset_pair[1]], flank//1000, binsize//1000))\n",
    "\n",
    "    cb.set_label(('log2' if use_log2 else 'log10') + ' ratio')\n"
   ]
  },
  {
   "cell_type": "code",
   "execution_count": null,
   "metadata": {
    "ExecuteTime": {
     "end_time": "2018-12-14T06:09:13.678584Z",
     "start_time": "2018-12-14T06:09:13.483763Z"
    },
    "scrolled": true
   },
   "outputs": [],
   "source": [
    "plot_pileup_ratios(\n",
    "    cis_cen_pileup_dict,\n",
    "    use_log2=True,\n",
    "    hm_kwargs = dict(vmin=-1.5, vmax=1.5))"
   ]
  }
 ],
 "metadata": {
  "gist": {
   "data": {
    "description": "Yeast dCohesin Hi-C, fig6",
    "public": true
   },
   "id": ""
  },
  "kernelspec": {
   "display_name": "Python 3",
   "language": "python",
   "name": "python3"
  },
  "language_info": {
   "codemirror_mode": {
    "name": "ipython",
    "version": 3
   },
   "file_extension": ".py",
   "mimetype": "text/x-python",
   "name": "python",
   "nbconvert_exporter": "python",
   "pygments_lexer": "ipython3",
   "version": "3.7.4"
  },
  "nav_menu": {},
  "toc": {
   "navigate_menu": true,
   "number_sections": true,
   "sideBar": true,
   "threshold": 6,
   "toc_cell": true,
   "toc_section_display": "block",
   "toc_window_display": true
  }
 },
 "nbformat": 4,
 "nbformat_minor": 2
}
